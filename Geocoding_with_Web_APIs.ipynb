{
  "nbformat": 4,
  "nbformat_minor": 0,
  "metadata": {
    "colab": {
      "name": "Geocoding_with_Web_APIs.ipynb",
      "provenance": [],
      "collapsed_sections": [],
      "authorship_tag": "ABX9TyO0Zyl2U06X+SM1ncWgZqBq",
      "include_colab_link": true
    },
    "kernelspec": {
      "name": "python3",
      "display_name": "Python 3"
    },
    "language_info": {
      "name": "python"
    }
  },
  "cells": [
    {
      "cell_type": "markdown",
      "metadata": {
        "id": "view-in-github",
        "colab_type": "text"
      },
      "source": [
        "<a href=\"https://colab.research.google.com/github/kemaladamr/build_data_science_app/blob/main/Geocoding_with_Web_APIs.ipynb\" target=\"_parent\"><img src=\"https://colab.research.google.com/assets/colab-badge.svg\" alt=\"Open In Colab\"/></a>"
      ]
    },
    {
      "cell_type": "code",
      "execution_count": 1,
      "metadata": {
        "id": "_eobkMKDn5dQ"
      },
      "outputs": [],
      "source": [
        "base_url = 'https://nominatim.openstreetmap.org/search?'\n",
        "params = {\n",
        "    'format': 'json',\n",
        "    'q': 'Eiffel Tower'\n",
        "}"
      ]
    },
    {
      "cell_type": "code",
      "source": [
        "import requests\n",
        "\n",
        "result = requests.get(base_url, params=params)"
      ],
      "metadata": {
        "id": "OoDETPIs_JPg"
      },
      "execution_count": 2,
      "outputs": []
    },
    {
      "cell_type": "code",
      "source": [
        "result.status_code"
      ],
      "metadata": {
        "colab": {
          "base_uri": "https://localhost:8080/"
        },
        "id": "nmbi6X8e_QsU",
        "outputId": "5df933a4-57ef-48a4-e3a8-27946eddb845"
      },
      "execution_count": 3,
      "outputs": [
        {
          "output_type": "execute_result",
          "data": {
            "text/plain": [
              "200"
            ]
          },
          "metadata": {},
          "execution_count": 3
        }
      ]
    },
    {
      "cell_type": "code",
      "source": [
        "result.json()"
      ],
      "metadata": {
        "colab": {
          "base_uri": "https://localhost:8080/"
        },
        "id": "NUCj8L5p_Ula",
        "outputId": "8d4c1ae5-2319-4887-8097-3fe0eb014b1c"
      },
      "execution_count": 4,
      "outputs": [
        {
          "output_type": "execute_result",
          "data": {
            "text/plain": [
              "[{'boundingbox': ['48.8574753', '48.8590453', '2.2933084', '2.2956897'],\n",
              "  'class': 'tourism',\n",
              "  'display_name': 'Tour Eiffel, 5, Avenue Anatole France, Quartier du Gros-Caillou, Paris 7e Arrondissement, Paris, Île-de-France, France métropolitaine, 75007, France',\n",
              "  'icon': 'https://nominatim.openstreetmap.org/ui/mapicons//poi_point_of_interest.p.20.png',\n",
              "  'importance': 0.6868325701744196,\n",
              "  'lat': '48.858260200000004',\n",
              "  'licence': 'Data © OpenStreetMap contributors, ODbL 1.0. https://osm.org/copyright',\n",
              "  'lon': '2.2944990543196795',\n",
              "  'osm_id': 5013364,\n",
              "  'osm_type': 'way',\n",
              "  'place_id': 96810447,\n",
              "  'type': 'attraction'},\n",
              " {'boundingbox': ['51.33355', '51.33365', '-116.23505', '-116.23495'],\n",
              "  'class': 'natural',\n",
              "  'display_name': 'Eiffel Tower, Improvement District No. 9, Alberta, Canada',\n",
              "  'icon': 'https://nominatim.openstreetmap.org/ui/mapicons//poi_peak.p.20.png',\n",
              "  'importance': 0.5,\n",
              "  'lat': '51.3336',\n",
              "  'licence': 'Data © OpenStreetMap contributors, ODbL 1.0. https://osm.org/copyright',\n",
              "  'lon': '-116.235',\n",
              "  'osm_id': 2689315641,\n",
              "  'osm_type': 'node',\n",
              "  'place_id': 25656203,\n",
              "  'type': 'peak'},\n",
              " {'boundingbox': ['48.8586807', '48.8587807', '2.2944394', '2.2945394'],\n",
              "  'class': 'historic',\n",
              "  'display_name': 'Gustave Eiffel, Esplanade des Ouvriers de la Tour Eiffel, Quartier du Gros-Caillou, Paris 7e Arrondissement, Paris, Île-de-France, France métropolitaine, 75007, France',\n",
              "  'icon': 'https://nominatim.openstreetmap.org/ui/mapicons//tourist_monument.p.20.png',\n",
              "  'importance': 0.28764122278025944,\n",
              "  'lat': '48.8587307',\n",
              "  'licence': 'Data © OpenStreetMap contributors, ODbL 1.0. https://osm.org/copyright',\n",
              "  'lon': '2.2944894',\n",
              "  'osm_id': 3422228091,\n",
              "  'osm_type': 'node',\n",
              "  'place_id': 43095551,\n",
              "  'type': 'memorial'},\n",
              " {'boundingbox': ['33.6398152', '33.6399152', '-95.5239198', '-95.5238198'],\n",
              "  'class': 'tourism',\n",
              "  'display_name': 'Eiffel Tower, 2025, South Collegiate Drive, Paris, Lamar County, Texas, 75460, United States',\n",
              "  'icon': 'https://nominatim.openstreetmap.org/ui/mapicons//poi_point_of_interest.p.20.png',\n",
              "  'importance': 0.28544064771236405,\n",
              "  'lat': '33.6398652',\n",
              "  'licence': 'Data © OpenStreetMap contributors, ODbL 1.0. https://osm.org/copyright',\n",
              "  'lon': '-95.5238698',\n",
              "  'osm_id': 3880146677,\n",
              "  'osm_type': 'node',\n",
              "  'place_id': 46967146,\n",
              "  'type': 'attraction'},\n",
              " {'boundingbox': ['36.1121663', '36.1127597', '-115.1726095', '-115.1717273'],\n",
              "  'class': 'tourism',\n",
              "  'display_name': 'Eiffel Tower, South Las Vegas Boulevard, Hughes Center, Paradise, Clark County, Nevada, 89158, United States',\n",
              "  'icon': 'https://nominatim.openstreetmap.org/ui/mapicons//poi_point_of_interest.p.20.png',\n",
              "  'importance': 0.201,\n",
              "  'lat': '36.11244535',\n",
              "  'licence': 'Data © OpenStreetMap contributors, ODbL 1.0. https://osm.org/copyright',\n",
              "  'lon': '-115.17216806080182',\n",
              "  'osm_id': 27831699,\n",
              "  'osm_type': 'way',\n",
              "  'place_id': 107703864,\n",
              "  'type': 'attraction'},\n",
              " {'boundingbox': ['39.8091898', '39.8092898', '116.280389', '116.280489'],\n",
              "  'class': 'man_made',\n",
              "  'display_name': 'Eiffel Tower, 郭公庄南街, 花乡街道, 丰台区, 北京市, 100070, 中国',\n",
              "  'importance': 0.201,\n",
              "  'lat': '39.8092398',\n",
              "  'licence': 'Data © OpenStreetMap contributors, ODbL 1.0. https://osm.org/copyright',\n",
              "  'lon': '116.280439',\n",
              "  'osm_id': 3184358208,\n",
              "  'osm_type': 'node',\n",
              "  'place_id': 41024735,\n",
              "  'type': 'tower'},\n",
              " {'boundingbox': ['39.3430824', '39.3435738', '-84.2672867', '-84.2666744'],\n",
              "  'class': 'man_made',\n",
              "  'display_name': 'Eiffel Tower, Viking Fury, Mason, Warren County, Ohio, 45034, United States',\n",
              "  'importance': 0.201,\n",
              "  'lat': '39.3433267',\n",
              "  'licence': 'Data © OpenStreetMap contributors, ODbL 1.0. https://osm.org/copyright',\n",
              "  'lon': '-84.26698190499772',\n",
              "  'osm_id': 661318737,\n",
              "  'osm_type': 'way',\n",
              "  'place_id': 232932850,\n",
              "  'type': 'tower'},\n",
              " {'boundingbox': ['36.2869263', '36.2870263', '-88.301576', '-88.301476'],\n",
              "  'class': 'tourism',\n",
              "  'display_name': 'Eiffel Tower, Eiffel Tower Park, Paris, Henry County, Tennessee, 38242, United States',\n",
              "  'icon': 'https://nominatim.openstreetmap.org/ui/mapicons//poi_point_of_interest.p.20.png',\n",
              "  'importance': 0.201,\n",
              "  'lat': '36.2869763',\n",
              "  'licence': 'Data © OpenStreetMap contributors, ODbL 1.0. https://osm.org/copyright',\n",
              "  'lon': '-88.301526',\n",
              "  'osm_id': 5818441944,\n",
              "  'osm_type': 'node',\n",
              "  'place_id': 64023242,\n",
              "  'type': 'attraction'},\n",
              " {'boundingbox': ['37.8397402', '37.8401152', '-77.4455335', '-77.4450428'],\n",
              "  'class': 'tourism',\n",
              "  'display_name': 'Eiffel Tower, KD Footways Eiffel Tower Circle, Hanover County, Virginia, 23047, United States',\n",
              "  'icon': 'https://nominatim.openstreetmap.org/ui/mapicons//poi_point_of_interest.p.20.png',\n",
              "  'importance': 0.201,\n",
              "  'lat': '37.83993165',\n",
              "  'licence': 'Data © OpenStreetMap contributors, ODbL 1.0. https://osm.org/copyright',\n",
              "  'lon': '-77.44528259670824',\n",
              "  'osm_id': 909515324,\n",
              "  'osm_type': 'way',\n",
              "  'place_id': 271961863,\n",
              "  'type': 'attraction'},\n",
              " {'boundingbox': ['25.1363819', '25.1364819', '67.35023', '67.35033'],\n",
              "  'class': 'man_made',\n",
              "  'display_name': 'Eiffel Tower, جناح ایونیو, کراچی, سندھ, پاکستان',\n",
              "  'importance': 0.201,\n",
              "  'lat': '25.1364319',\n",
              "  'licence': 'Data © OpenStreetMap contributors, ODbL 1.0. https://osm.org/copyright',\n",
              "  'lon': '67.35028',\n",
              "  'osm_id': 8376574276,\n",
              "  'osm_type': 'node',\n",
              "  'place_id': 85193908,\n",
              "  'type': 'tower'}]"
            ]
          },
          "metadata": {},
          "execution_count": 4
        }
      ]
    },
    {
      "cell_type": "code",
      "source": [
        "params = {\n",
        "    'format': 'json',\n",
        "    'q': 'Cair Paravel, Narnia', 'limit':1\n",
        "}"
      ],
      "metadata": {
        "id": "sUie7niA_W8t"
      },
      "execution_count": 6,
      "outputs": []
    },
    {
      "cell_type": "code",
      "source": [
        "requests.get(base_url, params=params).json()"
      ],
      "metadata": {
        "colab": {
          "base_uri": "https://localhost:8080/"
        },
        "id": "xJWHNDXb_nC9",
        "outputId": "dc99c83a-a89d-4e5b-ce86-44d4a8aa3c95"
      },
      "execution_count": 7,
      "outputs": [
        {
          "output_type": "execute_result",
          "data": {
            "text/plain": [
              "[]"
            ]
          },
          "metadata": {},
          "execution_count": 7
        }
      ]
    },
    {
      "cell_type": "code",
      "source": [
        "from time import sleep"
      ],
      "metadata": {
        "id": "TW9v0Dqh_yeg"
      },
      "execution_count": 8,
      "outputs": []
    },
    {
      "cell_type": "code",
      "source": [
        "def nominatim_geocode(address, format='json', limit=1, **kwargs):\n",
        "    ''' thin wrapper around nominatim API.\n",
        "    Documentation: https://wiki.openstreetmap.org/wiki\n",
        "    /Nominatim#Parameters\n",
        "    '''\n",
        "\n",
        "    params = {'q': address, 'format': format, 'limit': limit, **kwargs}\n",
        "\n",
        "    response = requests.get(base_url, params=params)\n",
        "    response.raise_for_status()\n",
        "    sleep(1)\n",
        "    return response.json()"
      ],
      "metadata": {
        "id": "Yim_33YF_81k"
      },
      "execution_count": 10,
      "outputs": []
    },
    {
      "cell_type": "code",
      "source": [
        "nominatim_geocode('Eiffel Tower')"
      ],
      "metadata": {
        "colab": {
          "base_uri": "https://localhost:8080/"
        },
        "id": "KgnqsLizAt8B",
        "outputId": "ec9632ab-6fb9-442f-b0a0-cebb66ae8387"
      },
      "execution_count": 11,
      "outputs": [
        {
          "output_type": "execute_result",
          "data": {
            "text/plain": [
              "[{'boundingbox': ['48.8574753', '48.8590453', '2.2933084', '2.2956897'],\n",
              "  'class': 'tourism',\n",
              "  'display_name': 'Tour Eiffel, 5, Avenue Anatole France, Quartier du Gros-Caillou, Paris 7e Arrondissement, Paris, Île-de-France, France métropolitaine, 75007, France',\n",
              "  'icon': 'https://nominatim.openstreetmap.org/ui/mapicons//poi_point_of_interest.p.20.png',\n",
              "  'importance': 0.6868325701744196,\n",
              "  'lat': '48.858260200000004',\n",
              "  'licence': 'Data © OpenStreetMap contributors, ODbL 1.0. https://osm.org/copyright',\n",
              "  'lon': '2.2944990543196795',\n",
              "  'osm_id': 5013364,\n",
              "  'osm_type': 'way',\n",
              "  'place_id': 96810447,\n",
              "  'type': 'attraction'}]"
            ]
          },
          "metadata": {},
          "execution_count": 11
        }
      ]
    },
    {
      "cell_type": "code",
      "source": [
        "nominatim_geocode(address=None, street='221B Baker Street', city='London',\n",
        "                  country='Great Britain')"
      ],
      "metadata": {
        "colab": {
          "base_uri": "https://localhost:8080/"
        },
        "id": "TpO-F_zzA8VT",
        "outputId": "3b5e4d62-1dae-4b11-aa16-0a054654d365"
      },
      "execution_count": 16,
      "outputs": [
        {
          "output_type": "execute_result",
          "data": {
            "text/plain": [
              "[]"
            ]
          },
          "metadata": {},
          "execution_count": 16
        }
      ]
    },
    {
      "cell_type": "markdown",
      "source": [
        "## Caching with decorators"
      ],
      "metadata": {
        "id": "HVDhw6urB7Vr"
      }
    },
    {
      "cell_type": "code",
      "source": [
        "def title(f):\n",
        "    def _title(*args, **kwargs):\n",
        "        return f'<h1>{f(args)}</h1>'\n",
        "    return _title\n"
      ],
      "metadata": {
        "id": "emx76YiJBVEm"
      },
      "execution_count": 20,
      "outputs": []
    },
    {
      "cell_type": "code",
      "source": [
        "def mytext(x):\n",
        "    return str(x)"
      ],
      "metadata": {
        "id": "Y1piKw0JCh3V"
      },
      "execution_count": 21,
      "outputs": []
    },
    {
      "cell_type": "code",
      "source": [
        "MyTitle = title(mytext)\n",
        "MyTitle('hello')"
      ],
      "metadata": {
        "colab": {
          "base_uri": "https://localhost:8080/",
          "height": 35
        },
        "id": "TfHaUqjDCnG3",
        "outputId": "63c3737c-47ec-43f1-ec32-04dff829de76"
      },
      "execution_count": 22,
      "outputs": [
        {
          "output_type": "execute_result",
          "data": {
            "application/vnd.google.colaboratory.intrinsic+json": {
              "type": "string"
            },
            "text/plain": [
              "\"<h1>('hello',)</h1>\""
            ]
          },
          "metadata": {},
          "execution_count": 22
        }
      ]
    },
    {
      "cell_type": "code",
      "source": [
        "from functools import lru_cache"
      ],
      "metadata": {
        "id": "0q8TiRRMCtG0"
      },
      "execution_count": null,
      "outputs": []
    }
  ]
}